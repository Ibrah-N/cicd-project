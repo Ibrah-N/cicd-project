{
 "cells": [
  {
   "cell_type": "code",
   "execution_count": 1,
   "metadata": {},
   "outputs": [],
   "source": [
    "import os"
   ]
  },
  {
   "cell_type": "code",
   "execution_count": 2,
   "metadata": {},
   "outputs": [
    {
     "name": "stdout",
     "output_type": "stream",
     "text": [
      "c:\\Users\\A2Z\\Desktop\\MLOPs\\cicd-project\\research\n",
      "c:\\Users\\A2Z\\Desktop\\MLOPs\\cicd-project\n"
     ]
    }
   ],
   "source": [
    "print(os.getcwd())\n",
    "os.chdir(\"../\")\n",
    "print(os.getcwd())"
   ]
  },
  {
   "cell_type": "code",
   "execution_count": 3,
   "metadata": {},
   "outputs": [],
   "source": [
    "from dataclasses import dataclass \n",
    "from pathlib import Path "
   ]
  },
  {
   "cell_type": "code",
   "execution_count": 4,
   "metadata": {},
   "outputs": [],
   "source": [
    "@dataclass(frozen=True)\n",
    "class ModelTrainerConfig:\n",
    "    root_dir: Path\n",
    "    train_data_path: Path \n",
    "    test_data_path: Path \n",
    "    model_name: Path\n",
    "    alpha: float\n",
    "    l1_ratio: float\n",
    "    target_column: str"
   ]
  },
  {
   "cell_type": "code",
   "execution_count": 5,
   "metadata": {},
   "outputs": [],
   "source": [
    "from mlProject.constants import *\n",
    "from mlProject.utils.common import read_yaml, create_directories"
   ]
  },
  {
   "cell_type": "code",
   "execution_count": 6,
   "metadata": {},
   "outputs": [],
   "source": [
    "class ConfigurationManager:\n",
    "    def __init__(\n",
    "        self,\n",
    "        config_filepath = CONFIG_FILE_PATH,\n",
    "        params_filepath = PARAMS_FILE_PATH,\n",
    "        schema_filepath = SCHEMA_FILE_PATH):\n",
    "\n",
    "        self.config = read_yaml(config_filepath)\n",
    "        self.params = read_yaml(params_filepath)\n",
    "        self.schema = read_yaml(schema_filepath)\n",
    "\n",
    "        create_directories([self.config.artifacts_root])\n",
    "\n",
    "\n",
    "\n",
    "    def get_model_trainer_configuration(self) -> ModelTrainerConfig:\n",
    "        config = self.config.model_trainer\n",
    "        params = self.params.ElasticNet\n",
    "        schema = self.schema.TARGET_COLUMN\n",
    "\n",
    "        create_directories([config.root_dir])\n",
    "        model_trainer_configuration = ModelTrainerConfig(\n",
    "            root_dir=config.root_dir, \n",
    "            train_data_path=config.train_data_path, \n",
    "            test_data_path=config.test_data_path, \n",
    "            model_name=config.model_name, \n",
    "            alpha=params.alpha, \n",
    "            l1_ratio=params.l1_ratio, \n",
    "            target_column=schema.name\n",
    "        )\n",
    "\n",
    "        return model_trainer_configuration\n"
   ]
  },
  {
   "cell_type": "code",
   "execution_count": 7,
   "metadata": {},
   "outputs": [],
   "source": [
    "import os\n",
    "import pandas as pd\n",
    "from mlProject import logger\n",
    "from sklearn.linear_model import ElasticNet\n",
    "import joblib"
   ]
  },
  {
   "cell_type": "code",
   "execution_count": 24,
   "metadata": {},
   "outputs": [],
   "source": [
    "class ModelTrainer:\n",
    "    def __init__(self, config: ModelTrainerConfig):\n",
    "        self.config = config\n",
    "\n",
    "\n",
    "\n",
    "    def train(self):\n",
    "        try: \n",
    "            print(self.config.train_data_path, self.config.test_data_path)\n",
    "            train_ =  pd.read_csv(self.config.train_data_path)\n",
    "            test_ = pd.read_csv(self.config.test_data_path)\n",
    "\n",
    "\n",
    "            train_x = train_.drop([self.config.target_column], axis=1)\n",
    "            train_y = train_[[self.config.target_column]]\n",
    "\n",
    "            test_x = test_.drop([self.config.target_column], axis=1)\n",
    "            test_y = test_[[self.config.target_column]]\n",
    "\n",
    "            lr = ElasticNet(alpha=self.config.alpha, l1_ratio=self.config.l1_ratio, random_state=42) \n",
    "            lr.fit(train_x, train_y)\n",
    "\n",
    "            joblib.dump(lr, filename=self.config.model_name)\n",
    "\n",
    "        except Exception as e:\n",
    "            raise e"
   ]
  },
  {
   "cell_type": "code",
   "execution_count": 25,
   "metadata": {},
   "outputs": [
    {
     "name": "stdout",
     "output_type": "stream",
     "text": [
      "[2025-02-03 22:25:24,452: INFO: common: yaml file: config\\config.yaml loaded successfully]\n",
      "[2025-02-03 22:25:24,457: INFO: common: yaml file: params.yaml loaded successfully]\n",
      "[2025-02-03 22:25:24,464: INFO: common: yaml file: schema.yaml loaded successfully]\n",
      "[2025-02-03 22:25:24,467: INFO: common: created directory at: artifacts]\n",
      "[2025-02-03 22:25:24,470: INFO: common: created directory at: artifacts/model_trainer]\n",
      "artifacts/data_transformation/train.csv artifacts/data_transformation/test.csv\n"
     ]
    }
   ],
   "source": [
    "try: \n",
    "    config = ConfigurationManager()\n",
    "    model_trainer_config = config.get_model_trainer_configuration()\n",
    "    model_trainer = ModelTrainer(config=model_trainer_config)\n",
    "    model_trainer.train()\n",
    "\n",
    "except Exception as e: \n",
    "    raise e"
   ]
  },
  {
   "cell_type": "code",
   "execution_count": null,
   "metadata": {},
   "outputs": [],
   "source": []
  }
 ],
 "metadata": {
  "kernelspec": {
   "display_name": "myenv",
   "language": "python",
   "name": "python3"
  },
  "language_info": {
   "codemirror_mode": {
    "name": "ipython",
    "version": 3
   },
   "file_extension": ".py",
   "mimetype": "text/x-python",
   "name": "python",
   "nbconvert_exporter": "python",
   "pygments_lexer": "ipython3",
   "version": "3.10.4"
  }
 },
 "nbformat": 4,
 "nbformat_minor": 2
}
